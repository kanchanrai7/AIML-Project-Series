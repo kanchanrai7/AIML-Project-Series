{
 "cells": [
  {
   "cell_type": "code",
   "execution_count": 2,
   "id": "a90d33e2",
   "metadata": {},
   "outputs": [],
   "source": [
    "# In mutliple steps and improvising the code every time the code is written\n",
    "# a simple chatbot using the ChatterBot library in Python named 'Buddy'. \n",
    "# It engages the user in a conversation loop, where the user inputs messages, and the chatbot responds. \n",
    "# The conversation continues until the user enters one of the predefined exit conditions (\"quit\", \"exit\", \"stop\"). \n",
    "# The chatbot's responses are generated using the ChatterBot library's get_response method. \n",
    "# by @kanchanrai7"
   ]
  },
  {
   "cell_type": "code",
   "execution_count": null,
   "id": "6710eaa7",
   "metadata": {},
   "outputs": [],
   "source": [
    "# For the first time. Here the 'Buddy Bot' just responds what is fed to it.\n",
    "# Running it multiple times with different responses what happens is that the buddy learns some new words. \n",
    "# As for the first time it responded with 'hello' to any prompt because it learnt the word 'hello'\n",
    "# At last when everything is complete we see that buddy responds to appropriate response.\n",
    "from chatterbot import ChatBot\n",
    "from chatterbot.trainers import ListTrainer\n",
    "chatbot=ChatBot('Buddy')\n",
    "exit_conditions=(\"quit\",\"exit\",\"stop\")\n",
    "while True:\n",
    "    query=input(\"You:\")\n",
    "    if query in exit_conditions:\n",
    "        break\n",
    "    else:\n",
    "        print(f\"Buddy: {chatbot.get_response(query)}\")"
   ]
  },
  {
   "cell_type": "code",
   "execution_count": null,
   "id": "3b39abd0",
   "metadata": {},
   "outputs": [],
   "source": [
    "#At this point the bot simply returns the first thing said to it. \n",
    "#When we run it again it remebers what we previoulsy said to it.\n",
    "#Below is the run when we run it again and we can see that it has learnt new responses as it rembers the previous convo."
   ]
  },
  {
   "cell_type": "code",
   "execution_count": 3,
   "id": "0f475559",
   "metadata": {},
   "outputs": [
    {
     "name": "stderr",
     "output_type": "stream",
     "text": [
      "[nltk_data] Downloading package averaged_perceptron_tagger to\n",
      "[nltk_data]     C:\\Users\\kanch\\AppData\\Roaming\\nltk_data...\n",
      "[nltk_data]   Package averaged_perceptron_tagger is already up-to-\n",
      "[nltk_data]       date!\n",
      "[nltk_data] Downloading package punkt to\n",
      "[nltk_data]     C:\\Users\\kanch\\AppData\\Roaming\\nltk_data...\n",
      "[nltk_data]   Package punkt is already up-to-date!\n",
      "[nltk_data] Downloading package stopwords to\n",
      "[nltk_data]     C:\\Users\\kanch\\AppData\\Roaming\\nltk_data...\n",
      "[nltk_data]   Package stopwords is already up-to-date!\n"
     ]
    },
    {
     "name": "stdout",
     "output_type": "stream",
     "text": [
      "You:hi\n",
      "Buddy: hello\n",
      "You:how are you?\n",
      "Buddy: hello\n",
      "You:byee\n",
      "Buddy: good morning\n",
      "You:Are you a bot?\n",
      "Buddy: hello\n",
      "You:you are a nice bot\n",
      "Buddy: bye\n",
      "You:how are you?\n",
      "Buddy: byee\n",
      "You:good morning\n",
      "Buddy: hello\n",
      "You:nice to meet you\n",
      "Buddy: good morning\n",
      "You:quit\n"
     ]
    }
   ],
   "source": [
    "from chatterbot import ChatBot\n",
    "from chatterbot.trainers import ListTrainer\n",
    "chatbot=ChatBot('Buddy')\n",
    "exit_conditions=(\"quit\",\"exit\",\"stop\")\n",
    "while True:\n",
    "    query=input(\"You:\")\n",
    "    if query in exit_conditions:\n",
    "        break\n",
    "    else:\n",
    "        print(f\"Buddy: {chatbot.get_response(query)}\")"
   ]
  },
  {
   "cell_type": "code",
   "execution_count": null,
   "id": "177d6444",
   "metadata": {},
   "outputs": [],
   "source": [
    "#We can see that now the bot has tried to give us different responses, based on the prevoius run."
   ]
  },
  {
   "cell_type": "code",
   "execution_count": 2,
   "id": "8a1c398d",
   "metadata": {
    "scrolled": true
   },
   "outputs": [
    {
     "name": "stdout",
     "output_type": "stream",
     "text": [
      "List Trainer: [####################] 100%\n",
      "List Trainer: [####################] 100%\n",
      "List Trainer: [####################] 100%\n",
      "List Trainer: [####################] 100%\n",
      "List Trainer: [####################] 100%\n",
      "List Trainer: [####################] 100%\n",
      "List Trainer: [##########          ] 50%"
     ]
    },
    {
     "name": "stderr",
     "output_type": "stream",
     "text": [
      "[nltk_data] Downloading package averaged_perceptron_tagger to\n",
      "[nltk_data]     C:\\Users\\kanch\\AppData\\Roaming\\nltk_data...\n",
      "[nltk_data]   Package averaged_perceptron_tagger is already up-to-\n",
      "[nltk_data]       date!\n",
      "[nltk_data] Downloading package punkt to\n",
      "[nltk_data]     C:\\Users\\kanch\\AppData\\Roaming\\nltk_data...\n",
      "[nltk_data]   Package punkt is already up-to-date!\n",
      "[nltk_data] Downloading package stopwords to\n",
      "[nltk_data]     C:\\Users\\kanch\\AppData\\Roaming\\nltk_data...\n",
      "[nltk_data]   Package stopwords is already up-to-date!\n"
     ]
    },
    {
     "name": "stdout",
     "output_type": "stream",
     "text": [
      "List Trainer: [####################] 100%\n",
      "You:hello\n",
      "Buddy: Are you a bot?\n",
      "You:no im a human\n",
      "Buddy: Welcome friend!\n",
      "You:thankyouu\n",
      "Buddy: Who made you buddy?\n",
      "You:i'm a human \n",
      "Buddy: No, I'm a chatbot here to chat and help you.\n",
      "You:yes\n",
      "Buddy: hello\n",
      "You:hello\n",
      "Buddy: Welcome friend!\n",
      "You:hello\n",
      "Buddy: hello\n",
      "You:who is the prime minister of india?\n",
      "Buddy: yes\n",
      "You:who is the prime minsiter of india?\n",
      "Buddy: kanchan\n",
      "You:no narendra modi is the prime minister of india\n",
      "Buddy: yes find me a restaurant\n",
      "You:i can't do that\n",
      "Buddy: hi\n",
      "You:hi\n",
      "Buddy: Welcome friend!\n",
      "You:hello\n",
      "Buddy: yes\n",
      "You:how are you?\n",
      "Buddy: god ig\n",
      "You:oh\n",
      "Buddy: oh\n",
      "You:you meant good?\n",
      "Buddy: thanks for welcoming me\n",
      "You:it's my pleasure\n",
      "Buddy: yes\n",
      "You:yes\n",
      "Buddy: thanks for welcoming me\n",
      "You:my pleasure\n",
      "Buddy: i'm good and you?\n",
      "You:i'm fine\n",
      "Buddy: yes\n",
      "You:byeee\n",
      "Buddy: No, I'm a chatbot here to chat and help you.\n",
      "You:byeee\n",
      "Buddy: i'm kanchan\n",
      "You:exit\n"
     ]
    }
   ],
   "source": [
    "from chatterbot import ChatBot\n",
    "from chatterbot.trainers import ListTrainer\n",
    "chatbot=ChatBot('Buddy')\n",
    "trainer=ListTrainer(chatbot)\n",
    "\n",
    "trainer.train([\"Hi\",\n",
    "               \"Welcome friend!\"])\n",
    "trainer.train([\"Are you a human?\",\n",
    "               \"No, I'm a chatbot here to chat and help you.\"])\n",
    "trainer.train([\"Who made you buddy?\",\n",
    "              \"Kanchan made me, she really made me with love.\"])\n",
    "trainer.train([\"What is your favourite color?\",\n",
    "              \"I'm a bot, so i don't have any. But i feel all colors are mesmerising\"])\n",
    "trainer.train([\"Do you Know my name?\",\n",
    "              \"Sadly I don't but I'm happy to hear. Tell me your name.\"])\n",
    "trainer.train([\"Good Morning\",\n",
    "              \"Good Morning. How are you?\"])\n",
    "trainer.train([\"I'm fine\",\n",
    "              \"How can i help you?\"])\n",
    "exit_conditions = (\":q\", \"quit\", \"exit\")\n",
    "while True:\n",
    "    query = input(\"You:\")\n",
    "    if query in exit_conditions:\n",
    "        break\n",
    "    else:\n",
    "        print(f\"Buddy: {chatbot.get_response(query)}\")"
   ]
  },
  {
   "cell_type": "code",
   "execution_count": null,
   "id": "1cc012e9",
   "metadata": {},
   "outputs": [],
   "source": [
    "#Now adding an error handling msg+ farewell\n",
    "#in the below cell"
   ]
  },
  {
   "cell_type": "code",
   "execution_count": null,
   "id": "3e5cfee0",
   "metadata": {
    "scrolled": true
   },
   "outputs": [
    {
     "name": "stdout",
     "output_type": "stream",
     "text": [
      "List Trainer: [####################] 100%\n",
      "List Trainer: [####################] 100%\n",
      "List Trainer: [####################] 100%\n",
      "List Trainer: [####################] 100%\n",
      "List Trainer: [##########          ] 50%"
     ]
    },
    {
     "name": "stderr",
     "output_type": "stream",
     "text": [
      "[nltk_data] Downloading package averaged_perceptron_tagger to\n",
      "[nltk_data]     C:\\Users\\kanch\\AppData\\Roaming\\nltk_data...\n",
      "[nltk_data]   Package averaged_perceptron_tagger is already up-to-\n",
      "[nltk_data]       date!\n",
      "[nltk_data] Downloading package punkt to\n",
      "[nltk_data]     C:\\Users\\kanch\\AppData\\Roaming\\nltk_data...\n",
      "[nltk_data]   Package punkt is already up-to-date!\n",
      "[nltk_data] Downloading package stopwords to\n",
      "[nltk_data]     C:\\Users\\kanch\\AppData\\Roaming\\nltk_data...\n",
      "[nltk_data]   Package stopwords is already up-to-date!\n"
     ]
    },
    {
     "name": "stdout",
     "output_type": "stream",
     "text": [
      "List Trainer: [####################] 100%\n",
      "List Trainer: [####################] 100%\n",
      "List Trainer: [####################] 100%\n",
      "You:helloo\n",
      "Buddy: I'm not sure how to respond to that.\n",
      "You:hi\n",
      "Buddy: Welcome friend!\n",
      "You:how are you?\n",
      "Buddy: I'm not sure how to respond to that.\n",
      "You:Are you a human?\n",
      "Buddy: No, I'm a chatbot here to chat and help you.\n",
      "You:Who made you buddy\n",
      "Buddy: Kanchan made me, she really made me with love.\n",
      "You:yup i can see that\n",
      "Buddy: I'm not sure how to respond to that.\n",
      "You:Good Morining\n",
      "Buddy: I'm not sure how to respond to that.\n",
      "You:Good morning\n",
      "Buddy: Good Morning. How are you?\n",
      "You:i'm fine\n",
      "Buddy: I'm not sure how to respond to that.\n",
      "You:oh\n",
      "Buddy: I'm not sure how to respond to that.\n",
      "You:What is your favourite color?\n",
      "Buddy: I'm a bot, so i don't have any. But i feel all colors are mesmerising\n",
      "You:oh\n",
      "Buddy: I'm not sure how to respond to that.\n",
      "You:how are you?\n",
      "Buddy: I'm not sure how to respond to that.\n"
     ]
    }
   ],
   "source": [
    "from chatterbot import ChatBot\n",
    "from chatterbot.trainers import ListTrainer\n",
    "\n",
    "chatbot = ChatBot('Buddy')\n",
    "trainer = ListTrainer(chatbot)\n",
    "\n",
    "trainer.train([\"Hi\", \"Welcome friend!\"])\n",
    "trainer.train([\"Are you a human?\", \"No, I'm a chatbot here to chat and help you.\"])\n",
    "trainer.train([\"Who made you buddy?\", \"Kanchan made me, she really made me with love.\"])\n",
    "trainer.train([\"What is your favourite color?\", \"I'm a bot, so I don't have any. But I feel all colors are mesmerizing.\"])\n",
    "trainer.train([\"Do you know my name?\", \"Sadly I don't, but I'm happy to hear. Tell me your name.\"])\n",
    "trainer.train([\"Good Morning\", \"Good Morning. How are you?\"])\n",
    "trainer.train([\"I'm fine\", \"How can I help you?\"])\n",
    "\n",
    "exit_conditions = (\":q\", \"quit\", \"exit\")\n",
    "confidence_threshold = 0.5\n",
    "\n",
    "while True:\n",
    "    query = input(\"You:\")\n",
    "    if query in exit_conditions:\n",
    "        break\n",
    "    else:\n",
    "        response = chatbot.get_response(query)\n",
    "        if response.confidence > confidence_threshold:\n",
    "            print(f\"Buddy: {response}\")\n",
    "        else:\n",
    "            print(\"Buddy: I'm not sure how to respond to that.\")\n"
   ]
  },
  {
   "cell_type": "code",
   "execution_count": null,
   "id": "40fbb518",
   "metadata": {},
   "outputs": [],
   "source": [
    "#Adding more functionalities"
   ]
  },
  {
   "cell_type": "code",
   "execution_count": 1,
   "id": "31c7472a",
   "metadata": {},
   "outputs": [
    {
     "name": "stdout",
     "output_type": "stream",
     "text": [
      "\r",
      "List Trainer: [#                   ] 4%"
     ]
    },
    {
     "name": "stderr",
     "output_type": "stream",
     "text": [
      "[nltk_data] Downloading package averaged_perceptron_tagger to\n",
      "[nltk_data]     C:\\Users\\kanch\\AppData\\Roaming\\nltk_data...\n",
      "[nltk_data]   Package averaged_perceptron_tagger is already up-to-\n",
      "[nltk_data]       date!\n",
      "[nltk_data] Downloading package punkt to\n",
      "[nltk_data]     C:\\Users\\kanch\\AppData\\Roaming\\nltk_data...\n",
      "[nltk_data]   Package punkt is already up-to-date!\n",
      "[nltk_data] Downloading package stopwords to\n",
      "[nltk_data]     C:\\Users\\kanch\\AppData\\Roaming\\nltk_data...\n",
      "[nltk_data]   Package stopwords is already up-to-date!\n"
     ]
    },
    {
     "name": "stdout",
     "output_type": "stream",
     "text": [
      "List Trainer: [####################] 100%\n",
      "You: hello\n",
      "Buddy: bonjour!Welcome friend!\n",
      "You: how are you?\n",
      "Buddy: I'm a chatbot, here to chat and help you.\n",
      "You: What is your favorite color?\n",
      "Buddy: I'm a bot, so i don't have any. But i feel all colors are mesmerising\n",
      "You: What do you like to do for fun?\n",
      "Buddy: As a bot, I don't have personal interests, but I enjoy chatting with you!\n",
      "You: nice\n",
      "Buddy: I'm not sure how to respond to that. Can you please provide more details?\n",
      "You: Who created you?\n",
      "Buddy: I was created by developers who enjoy building chatbots.\n",
      "You: Tell me a joke\n",
      "Buddy: Why don't scientists trust atoms? Because they make up everything!\n",
      "You: Good morning?\n",
      "Buddy: Good Morning. How are you?\n",
      "You: who are you?\n",
      "Buddy: I'm a chatbot, here to chat and help you.\n",
      "You: bye\n",
      "Buddy: Goodbye! If you have more questions, feel free to ask.\n"
     ]
    }
   ],
   "source": [
    "from chatterbot import ChatBot\n",
    "from chatterbot.trainers import ListTrainer\n",
    "\n",
    "# Create a ChatBot instance\n",
    "chatbot = ChatBot('MyBot')\n",
    "\n",
    "# Create a new trainer for the chatbot\n",
    "trainer = ListTrainer(chatbot)\n",
    "\n",
    "# Training data for basic functionality\n",
    "basic_training_data = [\n",
    "    \"Hi\",\n",
    "    \"Welcome friend!\",\n",
    "    \"How are you?\",\n",
    "    \"I'm a chatbot, here to chat and help you.\",\n",
    "    \"What is your purpose?\",\n",
    "    \"I'm here to assist you with any questions you have.\",\n",
    "    \"Tell me a joke\",\n",
    "    \"Why don't scientists trust atoms? Because they make up everything!\",\n",
    "    \"Who created you?\",\n",
    "    \"I was created by developers who enjoy building chatbots.\",\n",
    "]\n",
    "\n",
    "# Training data for user interaction\n",
    "user_interaction_data = [\n",
    "    \"What's your favorite color?\",\n",
    "    \"I'm a bot, so I don't have one. But all colors are mesmerizing.\",\n",
    "    \"Do you know my name?\",\n",
    "    \"Sadly, I don't. What's your name?\",\n",
    "    \"My name is {name}\",\n",
    "    \"Nice to meet you, {name}!\",\n",
    "    \"Good morning\",\n",
    "    \"Good morning! How are you today?\",\n",
    "    \"What do you like to do for fun?\",\n",
    "    \"As a bot, I don't have personal interests, but I enjoy chatting with you!\",\n",
    "    \"Can you ask me a question?\",\n",
    "    \"Sure! What's your favorite hobby?\",\n",
    "    \"I enjoy reading and learning new things. How about you?\",\n",
    "    \"I like {hobby}. What about you?\",\n",
    "    \"I don't have hobbies, but I'm here to chat with you. Anything on your mind?\",\n",
    "]\n",
    "\n",
    "# Train the chatbot\n",
    "trainer.train(basic_training_data + user_interaction_data)\n",
    "\n",
    "# Main interaction loop\n",
    "previous_context = None\n",
    "user_name = None\n",
    "\n",
    "while True:\n",
    "    user_input = input(\"You: \")\n",
    "\n",
    "    # Check for farewell message\n",
    "    if user_input.lower() in ['bye', 'quit', 'exit']:\n",
    "        print(\"Buddy: Goodbye! If you have more questions, feel free to ask.\")\n",
    "        break\n",
    "\n",
    "    try:\n",
    "        # Get chatbot response\n",
    "        if previous_context is None:\n",
    "            chatbot_response = chatbot.get_response(user_input)\n",
    "        else:\n",
    "            chatbot_response = chatbot.get_response(user_input, previous_response=previous_context)\n",
    "\n",
    "        # Ask for user's name if not already known\n",
    "        if user_name is None and \"What's your name?\" in chatbot_response.text:\n",
    "            user_name = input(\"You: \")\n",
    "            trainer.train([f\"My name is {user_name}\"])  # Train the chatbot with the user's name\n",
    "            print(f\"Buddy: Nice to meet you, {user_name}!\")\n",
    "\n",
    "        # Error handling for low-confidence responses\n",
    "        if chatbot_response.confidence < 0.2:\n",
    "            print(\"Buddy: I'm not sure how to respond to that. Can you please provide more details?\")\n",
    "        else:\n",
    "            # Print the response\n",
    "            print(f\"Buddy: {chatbot_response}\")\n",
    "\n",
    "            # Store context for the next interaction\n",
    "            previous_context = chatbot_response.text\n",
    "\n",
    "    except Exception as e:\n",
    "        # Handle errors gracefully\n",
    "        print(f\"Buddy: Oops! Something went wrong. Please try again. ({e})\")\n"
   ]
  },
  {
   "cell_type": "code",
   "execution_count": null,
   "id": "5e8318c6",
   "metadata": {},
   "outputs": [],
   "source": [
    "#Here we can see that the bot responds to at least five questions and can handle errors where it does'nt understand the\n",
    "#context. We also have  farewell msg."
   ]
  },
  {
   "cell_type": "code",
   "execution_count": null,
   "id": "5100004e",
   "metadata": {},
   "outputs": [],
   "source": []
  },
  {
   "cell_type": "code",
   "execution_count": null,
   "id": "ad197287",
   "metadata": {},
   "outputs": [],
   "source": []
  }
 ],
 "metadata": {
  "kernelspec": {
   "display_name": "Python 3 (ipykernel)",
   "language": "python",
   "name": "python3"
  },
  "language_info": {
   "codemirror_mode": {
    "name": "ipython",
    "version": 3
   },
   "file_extension": ".py",
   "mimetype": "text/x-python",
   "name": "python",
   "nbconvert_exporter": "python",
   "pygments_lexer": "ipython3",
   "version": "3.11.3"
  }
 },
 "nbformat": 4,
 "nbformat_minor": 5
}
